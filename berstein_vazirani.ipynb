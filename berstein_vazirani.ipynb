
    "# Bernstein-Vazirani Algorithm"
   ]
  },
  {
   "cell_type": "markdown",
   "metadata": {},
   "source": [
    "\n",
    "A black-box function $f$, which takes as input a string of bits ($x$), and returns either $0$ or $1$, that is:\n",
    "\n",
    "\n",
    "\n",
    "\n",
    "\n",
    "\n",
    "\n",
    "$$f(\\{x_0,x_1,x_2,...\\}) \\rightarrow 0 \\textrm{ or } 1 \\textrm{ where } x_n \\textrm{ is }0 \\textrm{ or } 1  $$ \n",
    "\n",
    "The function is guaranteed to return the bitwise product of the input with some string, $s$. \n"
   ]
  },
  {
   "cell_type": "markdown",
   "metadata": {},
   "source": [
    "In other words, given an input $x$, $f(x) = s \\cdot x \\, \\text{(mod 2)} =\\ x_0 * s_0+x_1*s_1+x_2*s_2+...\\ $ mod 2"
   ]
  },
  {
   "cell_type": "markdown",
   "metadata": {},
   "source": [
    "The quantum Bernstein-Vazirani Oracle:\n",
    "    \n",
    "1. Initialise the inputs qubits to the $|0\\rangle^{\\otimes n}$ state, and output qubit to $|{-}\\rangle$.\n",
    "2. Apply Hadamard gates to the input register\n",
    "3. Query the oracle\n",
    "4. Apply Hadamard gates to the input register\n",
    "5. Measure"
   ]
  },
  {
   "cell_type": "markdown",
   "metadata": {},
   "source": [
    "## Example Two Qubits:\n",
    "\n",
    "<ol>\n",
    "    <li> The register of two qubits is initialized to zero:\n",
    "    \n",
    "\n",
    "$$\\lvert \\psi_0 \\rangle = \\lvert 0 0 \\rangle$$\n",
    "\n",
    " \n",
    "   </li>\n",
    "\n",
    "   <li> Apply a Hadamard gate to both qubits:\n",
    "    \n",
    "\n",
    "$$\\lvert \\psi_1 \\rangle = \\frac{1}{2} \\left( \\lvert 0 0 \\rangle + \\lvert 0 1 \\rangle + \\lvert 1 0 \\rangle + \\lvert 1 1 \\rangle \\right) $$\n",
    "\n",
    " \n",
    "   </li>\n",
    "\n",
    "   <li> For the string $s=11$, the quantum oracle performs the operation:\n",
    "$$\n",
    "|x \\rangle \\xrightarrow{f_s} (-1)^{x\\cdot 11} |x \\rangle. \n",
    "$$\n",
    "\n",
    "$$\\lvert \\psi_2 \\rangle = \\frac{1}{2} \\left( (-1)^{00\\cdot 11}|00\\rangle + (-1)^{01\\cdot 11}|01\\rangle + (-1)^{10\\cdot 11}|10\\rangle + (-1)^{11\\cdot 11}|11\\rangle \\right)$$\n",
    "\n",
    "$$\\lvert \\psi_2 \\rangle = \\frac{1}{2} \\left( \\lvert 0 0 \\rangle - \\lvert 0 1 \\rangle - \\lvert 1 0 \\rangle + \\lvert 1 1 \\rangle \\right)$$\n",
    "\n",
    " \n",
    "   </li>\n",
    "\n",
    "   <li> Apply a Hadamard gate to both qubits:\n",
    "    \n",
    "\n",
    "$$\\lvert \\psi_3 \\rangle = \\lvert 1 1 \\rangle$$\n",
    "\n",
    " \n",
    "   </li>\n",
    "\n",
    "   <li> Measure to find the secret string $s=11$\n",
    "   </li>\n",
    "\n",
    "\n",
    "</ol>\n"
   ]
  },
  {
   "cell_type": "code",
   "execution_count": 2,
   "metadata": {},
   "outputs": [],
   "source": [
    "from qiskit import *\n",
    "%matplotlib inline\n",
    "from qiskit.tools.visualization import plot_histogram"
   ]
  },
  {
   "cell_type": "code",
   "execution_count": 3,
   "metadata": {},
   "outputs": [],
   "source": [
    "s = 101011"
   ]
  },
  {
   "cell_type": "code",
   "execution_count": 12,
   "metadata": {},
   "outputs": [
    {
     "data": {
      "text/plain": [
       "<qiskit.circuit.instructionset.InstructionSet at 0x1916bc40550>"
      ]
     },
     "execution_count": 12,
     "metadata": {},
     "output_type": "execute_result"
    }
   ],
   "source": [
    "qc = QuantumCircuit(6+1, 6)\n",
    "qc.h([0,1,2,3,4,5])\n",
    "\n",
    "qc.x(6)\n",
    "qc.h(6)\n",
    "\n",
    "qc.barrier()\n",
    "\n",
    "qc.cx(5,6)\n",
    "qc.cx(3,6)\n",
    "qc.cx(1,6)\n",
    "qc.cx(0,6)\n",
    "\n",
    "qc.barrier()\n",
    "\n",
    "qc.h([0,1,2,3,4,5])\n",
    "\n",
    "qc.measure([0,1,2,3,4,5],[0,1,2,3,4,5])"
   ]
  },
  {
   "cell_type": "code",
   "execution_count": 6,
   "metadata": {},
   "outputs": [
    {
     "data": {
      "image/png": "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\n",
      "text/plain": [
       "<Figure size 321.377x505.68 with 1 Axes>"
      ]
     },
     "execution_count": 6,
     "metadata": {},
     "output_type": "execute_result"
    }
   ],
   "source": [
    "qc.draw('mpl')"
   ]
  },
  {
   "cell_type": "code",
   "execution_count": 13,
   "metadata": {},
   "outputs": [
    {
     "name": "stdout",
     "output_type": "stream",
     "text": [
      "{'101011': 1}\n"
     ]
    }
   ],
   "source": [
    "simulator = Aer.get_backend('qasm_simulator')\n",
    "result = execute(qc, backend = simulator, shots = 1).result()\n",
    "counts = result.get_counts()\n",
    "\n",
    "print(counts)"
   ]
  },
  {
   "cell_type": "code",
   "execution_count": null,
   "metadata": {},
   "outputs": [],
   "source": []
  }
 ],
 "metadata": {
  "kernelspec": {
   "display_name": "Python 3",
   "language": "python",
   "name": "python3"
  },
  "language_info": {
   "codemirror_mode": {
    "name": "ipython",
    "version": 3
   },
   "file_extension": ".py",
   "mimetype": "text/x-python",
   "name": "python",
   "nbconvert_exporter": "python",
   "pygments_lexer": "ipython3",
   "version": "3.8.3"
  }
 },
 "nbformat": 4,
 "nbformat_minor": 2
}
